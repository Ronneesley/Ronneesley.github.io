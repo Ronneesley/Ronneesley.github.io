{
 "cells": [
  {
   "cell_type": "code",
   "execution_count": 2,
   "id": "cfaad886",
   "metadata": {},
   "outputs": [
    {
     "data": {
      "text/plain": [
       "IC"
      ]
     },
     "execution_count": 2,
     "metadata": {},
     "output_type": "execute_result"
    }
   ],
   "source": [
    "\"\"\"\n",
    "    IC(lamba)\n",
    "\n",
    "Converte a **taxa média de chegada** em `lamba` clientes por minuto\n",
    "para o **intervalo médio de chegada** em segundos\n",
    "\"\"\"\n",
    "IC(lamba) = 60 / lamba"
   ]
  },
  {
   "cell_type": "code",
   "execution_count": 3,
   "id": "deb7d763",
   "metadata": {},
   "outputs": [
    {
     "data": {
      "text/plain": [
       "3.0"
      ]
     },
     "execution_count": 3,
     "metadata": {},
     "output_type": "execute_result"
    }
   ],
   "source": [
    "IC(20)"
   ]
  },
  {
   "cell_type": "code",
   "execution_count": null,
   "id": "928a9a94",
   "metadata": {},
   "outputs": [],
   "source": []
  }
 ],
 "metadata": {
  "kernelspec": {
   "display_name": "Julia 1.8.5",
   "language": "julia",
   "name": "julia-1.8"
  },
  "language_info": {
   "file_extension": ".jl",
   "mimetype": "application/julia",
   "name": "julia",
   "version": "1.8.5"
  }
 },
 "nbformat": 4,
 "nbformat_minor": 5
}
