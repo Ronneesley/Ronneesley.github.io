{
 "cells": [
  {
   "cell_type": "code",
   "execution_count": 2,
   "id": "bed98ed9",
   "metadata": {},
   "outputs": [],
   "source": [
    "intervalo = [ 2, 3, 3, 3, 5, 0, 1, 5, 1, 4, 1, 2 ];"
   ]
  },
  {
   "cell_type": "code",
   "execution_count": 12,
   "id": "8027cfd1",
   "metadata": {},
   "outputs": [
    {
     "data": {
      "text/plain": [
       "calcular_momento (generic function with 1 method)"
      ]
     },
     "execution_count": 12,
     "metadata": {},
     "output_type": "execute_result"
    }
   ],
   "source": [
    "function calcular_momento(intervalo)\n",
    "    momento = Int[]\n",
    "    \n",
    "    push!(momento, intervalo[1] + 1)\n",
    "    \n",
    "    for (i, v) in enumerate(intervalo[2:end])\n",
    "        push!(momento, momento[i] + v )\n",
    "    end\n",
    "    \n",
    "    return momento\n",
    "end"
   ]
  },
  {
   "cell_type": "code",
   "execution_count": 13,
   "id": "5824dac6",
   "metadata": {},
   "outputs": [],
   "source": [
    "momento = calcular_momento(intervalo);"
   ]
  },
  {
   "cell_type": "code",
   "execution_count": 14,
   "id": "0803badf",
   "metadata": {},
   "outputs": [
    {
     "name": "stdout",
     "output_type": "stream",
     "text": [
      "[3, 6, 9, 12, 17, 17, 18, 23, 24, 28, 29, 31]\n"
     ]
    }
   ],
   "source": [
    "println(momento)"
   ]
  },
  {
   "cell_type": "code",
   "execution_count": 16,
   "id": "8725f775",
   "metadata": {},
   "outputs": [],
   "source": [
    "duracao = [1, 2, 1, 1, 3, 2, 1, 4, 2, 3, 1, 3];"
   ]
  },
  {
   "cell_type": "code",
   "execution_count": null,
   "id": "b0c9ea94",
   "metadata": {},
   "outputs": [],
   "source": []
  }
 ],
 "metadata": {
  "kernelspec": {
   "display_name": "Julia 1.8.5",
   "language": "julia",
   "name": "julia-1.8"
  },
  "language_info": {
   "file_extension": ".jl",
   "mimetype": "application/julia",
   "name": "julia",
   "version": "1.8.5"
  }
 },
 "nbformat": 4,
 "nbformat_minor": 5
}
