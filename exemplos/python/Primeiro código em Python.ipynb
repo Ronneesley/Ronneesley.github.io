{
 "cells": [
  {
   "cell_type": "code",
   "execution_count": 5,
   "id": "edc72c94",
   "metadata": {},
   "outputs": [],
   "source": [
    "valor = 1 + 2 + 9"
   ]
  },
  {
   "cell_type": "code",
   "execution_count": 6,
   "id": "43c1d84a",
   "metadata": {},
   "outputs": [
    {
     "name": "stdout",
     "output_type": "stream",
     "text": [
      "12\n"
     ]
    }
   ],
   "source": [
    "print(valor)"
   ]
  },
  {
   "cell_type": "code",
   "execution_count": null,
   "id": "71a8f07d",
   "metadata": {},
   "outputs": [],
   "source": []
  }
 ],
 "metadata": {
  "kernelspec": {
   "display_name": "Python 3 (ipykernel)",
   "language": "python",
   "name": "python3"
  },
  "language_info": {
   "codemirror_mode": {
    "name": "ipython",
    "version": 3
   },
   "file_extension": ".py",
   "mimetype": "text/x-python",
   "name": "python",
   "nbconvert_exporter": "python",
   "pygments_lexer": "ipython3",
   "version": "3.10.6"
  }
 },
 "nbformat": 4,
 "nbformat_minor": 5
}
