{
 "cells": [
  {
   "cell_type": "code",
   "execution_count": 1,
   "id": "12a6d16f-0158-4106-8dfd-5200ff7ffefb",
   "metadata": {},
   "outputs": [],
   "source": [
    "import numpy as np\n",
    "from enum import Enum\n",
    "import queue"
   ]
  },
  {
   "cell_type": "code",
   "execution_count": 2,
   "id": "9d832fa8-2428-4648-a16f-b80a40fda10f",
   "metadata": {},
   "outputs": [],
   "source": [
    "class Vertice:\n",
    "    def __init__(self, rotulo):\n",
    "        self.rotulo = rotulo"
   ]
  },
  {
   "cell_type": "code",
   "execution_count": 3,
   "id": "5eaae72e-95f9-465d-b8a3-0a063b12732e",
   "metadata": {},
   "outputs": [],
   "source": [
    "class Aresta:\n",
    "    def __init__(self, inicio, fim):\n",
    "        self.inicio = inicio\n",
    "        self.fim = fim\n",
    "\n",
    "    def e_extremidade(self, v):\n",
    "        return self.inicio == v or self.fim == v\n",
    "\n",
    "    def e_loop(self):\n",
    "        return self.inicio == self.fim\n",
    "\n",
    "    def oposto(self, v):\n",
    "        if (self.inicio == v):\n",
    "            return self.fim\n",
    "        elif (self.fim == v):\n",
    "            return self.inicio\n",
    "        else:\n",
    "            return None"
   ]
  },
  {
   "cell_type": "code",
   "execution_count": 4,
   "id": "45fac61f-92d1-4c10-8244-4a5bbc9c1365",
   "metadata": {},
   "outputs": [],
   "source": [
    "class Cor(Enum):\n",
    "    BRANCO = 1\n",
    "    CINZENTO = 2\n",
    "    PRETO = 3"
   ]
  },
  {
   "cell_type": "code",
   "execution_count": 5,
   "id": "bf339b04-ef6c-4e59-9e72-69adf0050072",
   "metadata": {},
   "outputs": [],
   "source": [
    "class DadosBuscaLargura:\n",
    "    def __init__(self, cor, d, pai):\n",
    "        self.cor = cor\n",
    "        self.d = d\n",
    "        self.pai = pai"
   ]
  },
  {
   "cell_type": "code",
   "execution_count": 6,
   "id": "6005f213",
   "metadata": {},
   "outputs": [],
   "source": [
    "class DadosBuscaProfundidade:\n",
    "    def __init__(self, cor, pai, d, f):\n",
    "        self.cor = cor\n",
    "        self.d = d\n",
    "        self.pai = pai\n",
    "        self.f = f"
   ]
  },
  {
   "cell_type": "code",
   "execution_count": 7,
   "id": "e83af548-a891-4d6a-a56f-b64aeabcdf7a",
   "metadata": {},
   "outputs": [],
   "source": [
    "class Grafo:\n",
    "    def __init__(self, n):\n",
    "        self.vertices = [ Vertice(str(i + 1)) for i in range(n) ]\n",
    "        self.arestas = []\n",
    "\n",
    "    def adicionarVertice(self, v):\n",
    "        self.vertices.append(v)    \n",
    "\n",
    "    def adicionarAresta(self, origem, destino):\n",
    "        self.arestas.append( Aresta(origem, destino) )\n",
    "\n",
    "    def removerAresta(self, a):\n",
    "        self.arestas.remove(a)\n",
    "\n",
    "    def removerArestas(self, A):\n",
    "        for a in A:\n",
    "            self.removerAresta(a)\n",
    "\n",
    "    def arestasIncidentes(self, v):\n",
    "        return [ a for a in self.arestas if a.e_extremidade(v) ]\n",
    "\n",
    "    def removerVertice(self, v):\n",
    "        #Remove o vértice do vetor\n",
    "        self.vertices.remove(v)\n",
    "        \n",
    "        #Remover as arestas ligadas ao vértice\n",
    "        self.removerArestas(self.arestasIncidentes(v))    \n",
    "\n",
    "    def numeroVertices(self):\n",
    "        return len(self.vertices)\n",
    "\n",
    "    def numeroArestas(self):\n",
    "        return len(self.arestas)\n",
    "\n",
    "    def matrizAdjacencia(self):\n",
    "        n = self.numeroVertices()\n",
    "\n",
    "        A = np.zeros((n, n), int)\n",
    "\n",
    "        posicao = {}\n",
    "\n",
    "        for (i, v) in enumerate(self.vertices):\n",
    "            posicao[v] = i\n",
    "\n",
    "        for a in self.arestas:\n",
    "            vi = a.inicio\n",
    "            vf = a.fim\n",
    "\n",
    "            pi = posicao[vi]\n",
    "            pf = posicao[vf]\n",
    "\n",
    "            if (pi == pf):\n",
    "                A[pi][pf] += 1\n",
    "            else:\n",
    "                A[pi][pf] += 1\n",
    "                A[pf][pi] += 1\n",
    "\n",
    "        return A\n",
    "\n",
    "    def matrizIncidencia(self):\n",
    "        n = self.numeroVertices()\n",
    "\n",
    "        m = self.numeroArestas()\n",
    "\n",
    "        S = np.zeros((n, m), int)\n",
    "\n",
    "        posicao = {}\n",
    "\n",
    "        for (i, v) in enumerate(self.vertices):\n",
    "            posicao[v] = i\n",
    "\n",
    "        for (j, a) in enumerate(self.arestas):\n",
    "            vi = a.inicio\n",
    "            vf = a.fim\n",
    "\n",
    "            pi = posicao[vi]\n",
    "            pf = posicao[vf]\n",
    "\n",
    "            if (pi == pf):\n",
    "                S[pi][j] = 2\n",
    "            else:\n",
    "                S[pi][j] = 1\n",
    "                S[pf][j] = 1\n",
    "\n",
    "        return S\n",
    "\n",
    "    def listaAdjacencia(self):\n",
    "        L = {}\n",
    "\n",
    "        for v in self.vertices:\n",
    "            L[v] = []\n",
    "\n",
    "        for e in self.arestas:\n",
    "            if e.inicio != e.fim:\n",
    "                L[e.inicio].append(e.fim)            \n",
    "            L[e.fim].append(e.inicio)\n",
    "            \n",
    "        return L\n",
    "\n",
    "    def grau(self, v):\n",
    "        #Define o grau inicial\n",
    "        c = 0\n",
    "\n",
    "        for e in self.arestas:\n",
    "            if e.e_extremidade(v):\n",
    "                if e.e_loop():\n",
    "                    c += 2\n",
    "                else:\n",
    "                    c += 1\n",
    "\n",
    "        return c\n",
    "\n",
    "    def graus(self):\n",
    "        n = self.numeroVertices()\n",
    "        \n",
    "        d = [0] * n\n",
    "\n",
    "        posicao = dict( [ (v, i) for (i, v) in enumerate(self.vertices)] )\n",
    "\n",
    "        for e in self.arestas:\n",
    "            pi = posicao[e.inicio]\n",
    "            pf = posicao[e.fim]\n",
    "\n",
    "            d[pi] += 1\n",
    "            d[pf] += 1\n",
    "\n",
    "        return d\n",
    "\n",
    "    def grau_medio(self):\n",
    "        ds = self.graus()\n",
    "\n",
    "        S = 0\n",
    "\n",
    "        for d in ds:\n",
    "            S += d\n",
    "\n",
    "        return S / self.numeroVertices()\n",
    "\n",
    "    def adjacentes(self, v):\n",
    "        adj = []\n",
    "        \n",
    "        for e in self.arestas:\n",
    "            if (e.e_extremidade(v)):\n",
    "                adj.append(e.oposto(v))\n",
    "\n",
    "        return adj\n",
    "\n",
    "    def busca_largura(self, s):\n",
    "        mapa = dict()\n",
    "        \n",
    "        for u in self.vertices:\n",
    "            if (u != s):\n",
    "                mapa[u] = DadosBuscaLargura(Cor.BRANCO, float('inf'), None)\n",
    "\n",
    "        mapa[s] = DadosBuscaLargura(Cor.CINZENTO, 0, None)\n",
    "\n",
    "        Q = queue.Queue()\n",
    "        Q.put(s)\n",
    "        while not Q.empty():\n",
    "            u = Q.get()\n",
    "            um = mapa[u]\n",
    "            \n",
    "            for v in self.adjacentes(u):\n",
    "                vm = mapa[v]\n",
    "                \n",
    "                if vm.cor == Cor.BRANCO:\n",
    "                    vm.cor = Cor.CINZENTO\n",
    "                    vm.d = um.d + 1\n",
    "                    vm.pai = u\n",
    "\n",
    "                    Q.put(v)\n",
    "                    \n",
    "            um.cor = Cor.PRETO\n",
    "\n",
    "        return mapa\n",
    "    \n",
    "    def busca_profundidade(self):\n",
    "        mapa = dict()\n",
    "        \n",
    "        for u in self.vertices:\n",
    "            mapa[u] = DadosBuscaProfundidade(Cor.BRANCO, None, float('inf'), float('inf'))\n",
    "            \n",
    "        tempo = 0\n",
    "        \n",
    "        for u in self.vertices:\n",
    "            if mapa[u].cor == Cor.BRANCO:\n",
    "                    tempo = self.busca_profundidade_vertice(u, mapa, tempo)\n",
    "                \n",
    "        return mapa\n",
    "    \n",
    "    def busca_profundidade_vertice(self, u, mapa, tempo):\n",
    "        tempo += 1\n",
    "        \n",
    "        mapa[u].d = tempo\n",
    "        mapa[u].cor = Cor.CINZENTO\n",
    "        \n",
    "        for v in self.adjacentes(u):\n",
    "            if mapa[v].cor == Cor.BRANCO:\n",
    "                mapa[v].pai = u\n",
    "                tempo = self.busca_profundidade_vertice(v, mapa, tempo)\n",
    "                \n",
    "                \n",
    "        mapa[u].cor = Cor.PRETO\n",
    "        tempo += 1\n",
    "        mapa[u].f = tempo\n",
    "        \n",
    "        return tempo"
   ]
  },
  {
   "cell_type": "code",
   "execution_count": 8,
   "id": "ec0779ac-c0da-4ab1-9e3d-45e59f09ba98",
   "metadata": {},
   "outputs": [],
   "source": [
    "g = Grafo(5)"
   ]
  },
  {
   "cell_type": "code",
   "execution_count": 9,
   "id": "f6b4caca-72e8-4787-be57-a6299bf44fd0",
   "metadata": {},
   "outputs": [],
   "source": [
    "v1, v2, v3, v4, v5 = g.vertices[0], g.vertices[1], g.vertices[2], g.vertices[3], g.vertices[4]"
   ]
  },
  {
   "cell_type": "code",
   "execution_count": 10,
   "id": "34d3a295-4c5f-4fbd-abc4-64dbcf495a46",
   "metadata": {},
   "outputs": [
    {
     "data": {
      "text/plain": [
       "5"
      ]
     },
     "execution_count": 10,
     "metadata": {},
     "output_type": "execute_result"
    }
   ],
   "source": [
    "g.numeroVertices()"
   ]
  },
  {
   "cell_type": "code",
   "execution_count": 11,
   "id": "cca5bd69-f264-49af-b994-43ce12922923",
   "metadata": {},
   "outputs": [],
   "source": [
    "g.adicionarAresta(v1, v2)\n",
    "g.adicionarAresta(v1, v2)\n",
    "g.adicionarAresta(v2, v3)\n",
    "g.adicionarAresta(v1, v4)\n",
    "g.adicionarAresta(v3, v4)\n",
    "g.adicionarAresta(v3, v4)\n",
    "g.adicionarAresta(v1, v1)"
   ]
  },
  {
   "cell_type": "code",
   "execution_count": 12,
   "id": "e271582f-086f-4e25-9744-b88d5ce15c4f",
   "metadata": {},
   "outputs": [
    {
     "data": {
      "text/plain": [
       "7"
      ]
     },
     "execution_count": 12,
     "metadata": {},
     "output_type": "execute_result"
    }
   ],
   "source": [
    "g.numeroArestas()"
   ]
  },
  {
   "cell_type": "code",
   "execution_count": 13,
   "id": "8b919598-853d-414b-9a53-66a83f7431d8",
   "metadata": {},
   "outputs": [
    {
     "data": {
      "text/plain": [
       "array([[1, 2, 0, 1, 0],\n",
       "       [2, 0, 1, 0, 0],\n",
       "       [0, 1, 0, 2, 0],\n",
       "       [1, 0, 2, 0, 0],\n",
       "       [0, 0, 0, 0, 0]])"
      ]
     },
     "execution_count": 13,
     "metadata": {},
     "output_type": "execute_result"
    }
   ],
   "source": [
    "g.matrizAdjacencia()"
   ]
  },
  {
   "cell_type": "code",
   "execution_count": 14,
   "id": "686b2a1f-d686-40fb-a2ec-9fde4f3193bc",
   "metadata": {},
   "outputs": [
    {
     "data": {
      "text/plain": [
       "array([[1, 1, 0, 1, 0, 0, 2],\n",
       "       [1, 1, 1, 0, 0, 0, 0],\n",
       "       [0, 0, 1, 0, 1, 1, 0],\n",
       "       [0, 0, 0, 1, 1, 1, 0],\n",
       "       [0, 0, 0, 0, 0, 0, 0]])"
      ]
     },
     "execution_count": 14,
     "metadata": {},
     "output_type": "execute_result"
    }
   ],
   "source": [
    "g.matrizIncidencia()"
   ]
  },
  {
   "cell_type": "code",
   "execution_count": 15,
   "id": "426f9769-cfc9-45c4-80d0-24ce689945b4",
   "metadata": {},
   "outputs": [],
   "source": [
    "l = g.listaAdjacencia()"
   ]
  },
  {
   "cell_type": "code",
   "execution_count": 16,
   "id": "ce8770c7-f27d-49a9-8a7a-7095e6b1b0b9",
   "metadata": {},
   "outputs": [
    {
     "name": "stdout",
     "output_type": "stream",
     "text": [
      "1 : 2  2  4  1  \n",
      "2 : 1  1  3  \n",
      "3 : 2  4  4  \n",
      "4 : 1  3  3  \n",
      "5 : \n"
     ]
    }
   ],
   "source": [
    "for c in l.keys():\n",
    "    V = l[c]\n",
    "    \n",
    "    print(c.rotulo, \": \", end=\"\")\n",
    "    for v in V:\n",
    "        print(v.rotulo, \" \", end=\"\")\n",
    "    print()"
   ]
  },
  {
   "cell_type": "code",
   "execution_count": 17,
   "id": "82033694-e4fb-442a-aee0-b35c4cdcc86f",
   "metadata": {},
   "outputs": [
    {
     "data": {
      "text/plain": [
       "5"
      ]
     },
     "execution_count": 17,
     "metadata": {},
     "output_type": "execute_result"
    }
   ],
   "source": [
    "g.grau(v1)"
   ]
  },
  {
   "cell_type": "code",
   "execution_count": 18,
   "id": "ac6d3f88-b174-4b94-a247-6e6146c83159",
   "metadata": {},
   "outputs": [
    {
     "data": {
      "text/plain": [
       "3"
      ]
     },
     "execution_count": 18,
     "metadata": {},
     "output_type": "execute_result"
    }
   ],
   "source": [
    "g.grau(v2)"
   ]
  },
  {
   "cell_type": "code",
   "execution_count": 19,
   "id": "efbc9ab8-a6ff-4ae0-8b25-1d73254ca8e9",
   "metadata": {},
   "outputs": [
    {
     "data": {
      "text/plain": [
       "3"
      ]
     },
     "execution_count": 19,
     "metadata": {},
     "output_type": "execute_result"
    }
   ],
   "source": [
    "g.grau(v3)"
   ]
  },
  {
   "cell_type": "code",
   "execution_count": 20,
   "id": "19e6ee83-860a-410a-b3f1-646495748375",
   "metadata": {},
   "outputs": [
    {
     "data": {
      "text/plain": [
       "3"
      ]
     },
     "execution_count": 20,
     "metadata": {},
     "output_type": "execute_result"
    }
   ],
   "source": [
    "g.grau(v4)"
   ]
  },
  {
   "cell_type": "code",
   "execution_count": 21,
   "id": "5617ceca-63b4-4c43-929f-2cad41344164",
   "metadata": {},
   "outputs": [
    {
     "data": {
      "text/plain": [
       "[5, 3, 3, 3, 0]"
      ]
     },
     "execution_count": 21,
     "metadata": {},
     "output_type": "execute_result"
    }
   ],
   "source": [
    "g.graus()"
   ]
  },
  {
   "cell_type": "code",
   "execution_count": 22,
   "id": "5c45faba-44c5-43a4-bc5e-6bd8765ca8b6",
   "metadata": {},
   "outputs": [
    {
     "data": {
      "text/plain": [
       "2.8"
      ]
     },
     "execution_count": 22,
     "metadata": {},
     "output_type": "execute_result"
    }
   ],
   "source": [
    "g.grau_medio()"
   ]
  },
  {
   "cell_type": "code",
   "execution_count": 23,
   "id": "7c809603-24f4-40c8-b30a-cdbc14e7346d",
   "metadata": {},
   "outputs": [],
   "source": [
    "mapa = g.busca_largura(v1);"
   ]
  },
  {
   "cell_type": "code",
   "execution_count": 24,
   "id": "d76d1a14-2541-455c-b8a4-082b19e0f7d0",
   "metadata": {},
   "outputs": [
    {
     "data": {
      "text/plain": [
       "True"
      ]
     },
     "execution_count": 24,
     "metadata": {},
     "output_type": "execute_result"
    }
   ],
   "source": [
    "mapa[v1].pai == None"
   ]
  },
  {
   "cell_type": "code",
   "execution_count": 25,
   "id": "6d306e76-aa73-423d-b571-46ef5be2e027",
   "metadata": {},
   "outputs": [
    {
     "data": {
      "text/plain": [
       "True"
      ]
     },
     "execution_count": 25,
     "metadata": {},
     "output_type": "execute_result"
    }
   ],
   "source": [
    "mapa[v1].d == 0"
   ]
  },
  {
   "cell_type": "code",
   "execution_count": 26,
   "id": "1dab7c64-0d31-4b3f-874f-1744372cf79f",
   "metadata": {},
   "outputs": [
    {
     "data": {
      "text/plain": [
       "True"
      ]
     },
     "execution_count": 26,
     "metadata": {},
     "output_type": "execute_result"
    }
   ],
   "source": [
    "mapa[v2].pai == v1"
   ]
  },
  {
   "cell_type": "code",
   "execution_count": 27,
   "id": "8334af20-b8ac-4142-87d1-62d9c465162b",
   "metadata": {},
   "outputs": [
    {
     "data": {
      "text/plain": [
       "True"
      ]
     },
     "execution_count": 27,
     "metadata": {},
     "output_type": "execute_result"
    }
   ],
   "source": [
    "mapa[v2].d == 1"
   ]
  },
  {
   "cell_type": "code",
   "execution_count": 28,
   "id": "ce240193-d911-49ae-ae6e-d89cf4c8fc63",
   "metadata": {},
   "outputs": [
    {
     "data": {
      "text/plain": [
       "True"
      ]
     },
     "execution_count": 28,
     "metadata": {},
     "output_type": "execute_result"
    }
   ],
   "source": [
    "mapa[v3].pai == v2"
   ]
  },
  {
   "cell_type": "code",
   "execution_count": 29,
   "id": "29c5937b-0fd0-4509-b29d-a91a21409f7a",
   "metadata": {},
   "outputs": [
    {
     "data": {
      "text/plain": [
       "True"
      ]
     },
     "execution_count": 29,
     "metadata": {},
     "output_type": "execute_result"
    }
   ],
   "source": [
    "mapa[v3].d == 2"
   ]
  },
  {
   "cell_type": "code",
   "execution_count": 30,
   "id": "a209f717-c4a4-4a66-b056-f1b8a2af449d",
   "metadata": {},
   "outputs": [
    {
     "data": {
      "text/plain": [
       "True"
      ]
     },
     "execution_count": 30,
     "metadata": {},
     "output_type": "execute_result"
    }
   ],
   "source": [
    "mapa[v4].pai == v1"
   ]
  },
  {
   "cell_type": "code",
   "execution_count": 31,
   "id": "a2d009ae-64bf-455c-bbe6-ce227a5c052b",
   "metadata": {},
   "outputs": [
    {
     "data": {
      "text/plain": [
       "True"
      ]
     },
     "execution_count": 31,
     "metadata": {},
     "output_type": "execute_result"
    }
   ],
   "source": [
    "mapa[v4].d == 1"
   ]
  },
  {
   "cell_type": "code",
   "execution_count": 32,
   "id": "509b6e74-364a-4aa1-a134-b35ed484905b",
   "metadata": {},
   "outputs": [
    {
     "data": {
      "text/plain": [
       "True"
      ]
     },
     "execution_count": 32,
     "metadata": {},
     "output_type": "execute_result"
    }
   ],
   "source": [
    "mapa[v5].pai == None"
   ]
  },
  {
   "cell_type": "code",
   "execution_count": 33,
   "id": "a395fd16-6f94-478c-a392-0d077833441d",
   "metadata": {},
   "outputs": [
    {
     "data": {
      "text/plain": [
       "inf"
      ]
     },
     "execution_count": 33,
     "metadata": {},
     "output_type": "execute_result"
    }
   ],
   "source": [
    "mapa[v5].d"
   ]
  },
  {
   "cell_type": "code",
   "execution_count": 34,
   "id": "cb278363-bb63-46f7-98e2-b78d582e29df",
   "metadata": {},
   "outputs": [
    {
     "data": {
      "text/plain": [
       "<Cor.BRANCO: 1>"
      ]
     },
     "execution_count": 34,
     "metadata": {},
     "output_type": "execute_result"
    }
   ],
   "source": [
    "mapa[v5].cor"
   ]
  },
  {
   "cell_type": "code",
   "execution_count": 35,
   "id": "2a8e9d89-75f3-4783-b1e9-2a3b27074ab5",
   "metadata": {},
   "outputs": [],
   "source": [
    "mapa = g.busca_profundidade()"
   ]
  },
  {
   "cell_type": "code",
   "execution_count": 36,
   "id": "fee6a095",
   "metadata": {},
   "outputs": [
    {
     "data": {
      "text/plain": [
       "1"
      ]
     },
     "execution_count": 36,
     "metadata": {},
     "output_type": "execute_result"
    }
   ],
   "source": [
    "mapa[v1].d"
   ]
  },
  {
   "cell_type": "code",
   "execution_count": 37,
   "id": "e228f440",
   "metadata": {},
   "outputs": [
    {
     "data": {
      "text/plain": [
       "8"
      ]
     },
     "execution_count": 37,
     "metadata": {},
     "output_type": "execute_result"
    }
   ],
   "source": [
    "mapa[v1].f"
   ]
  },
  {
   "cell_type": "code",
   "execution_count": 39,
   "id": "62d5c764",
   "metadata": {},
   "outputs": [],
   "source": [
    "mapa[v1].pai"
   ]
  },
  {
   "cell_type": "code",
   "execution_count": 40,
   "id": "4cf89c53",
   "metadata": {},
   "outputs": [
    {
     "data": {
      "text/plain": [
       "2"
      ]
     },
     "execution_count": 40,
     "metadata": {},
     "output_type": "execute_result"
    }
   ],
   "source": [
    "mapa[v2].d"
   ]
  },
  {
   "cell_type": "code",
   "execution_count": 41,
   "id": "1040ed93",
   "metadata": {},
   "outputs": [
    {
     "data": {
      "text/plain": [
       "7"
      ]
     },
     "execution_count": 41,
     "metadata": {},
     "output_type": "execute_result"
    }
   ],
   "source": [
    "mapa[v2].f"
   ]
  },
  {
   "cell_type": "code",
   "execution_count": 43,
   "id": "10d8eee6",
   "metadata": {},
   "outputs": [
    {
     "data": {
      "text/plain": [
       "True"
      ]
     },
     "execution_count": 43,
     "metadata": {},
     "output_type": "execute_result"
    }
   ],
   "source": [
    "mapa[v2].pai == v1"
   ]
  },
  {
   "cell_type": "code",
   "execution_count": null,
   "id": "5bd6142b",
   "metadata": {},
   "outputs": [],
   "source": []
  }
 ],
 "metadata": {
  "kernelspec": {
   "display_name": "Python 3 (ipykernel)",
   "language": "python",
   "name": "python3"
  },
  "language_info": {
   "codemirror_mode": {
    "name": "ipython",
    "version": 3
   },
   "file_extension": ".py",
   "mimetype": "text/x-python",
   "name": "python",
   "nbconvert_exporter": "python",
   "pygments_lexer": "ipython3",
   "version": "3.10.6"
  }
 },
 "nbformat": 4,
 "nbformat_minor": 5
}
