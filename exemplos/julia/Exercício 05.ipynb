{
 "cells": [
  {
   "cell_type": "code",
   "execution_count": 4,
   "id": "3c67471c",
   "metadata": {},
   "outputs": [],
   "source": [
    "using Printf"
   ]
  },
  {
   "cell_type": "code",
   "execution_count": 1,
   "id": "23e210bd",
   "metadata": {},
   "outputs": [
    {
     "data": {
      "text/plain": [
       "f (generic function with 1 method)"
      ]
     },
     "execution_count": 1,
     "metadata": {},
     "output_type": "execute_result"
    }
   ],
   "source": [
    "f(x) = -x^2 + 2x + 8"
   ]
  },
  {
   "cell_type": "code",
   "execution_count": 14,
   "id": "c45566a4",
   "metadata": {},
   "outputs": [
    {
     "data": {
      "text/plain": [
       "g (generic function with 1 method)"
      ]
     },
     "execution_count": 14,
     "metadata": {},
     "output_type": "execute_result"
    }
   ],
   "source": [
    "g(x) = -2x + 2"
   ]
  },
  {
   "cell_type": "code",
   "execution_count": 15,
   "id": "e9488a7e",
   "metadata": {},
   "outputs": [
    {
     "name": "stdout",
     "output_type": "stream",
     "text": [
      "|   t |    x_t | g(x_t) | f(x_t) |\n",
      "|   1 |   4.00 | -6.000 |  0.000 |\n",
      "|   2 |   3.40 | -4.800 |  3.240 |\n",
      "|   3 |   2.92 | -3.840 |  5.314 |\n",
      "|   4 |   2.54 | -3.072 |  6.641 |\n",
      "|   5 |   2.23 | -2.458 |  7.490 |\n",
      "|   6 |   1.98 | -1.966 |  8.034 |\n",
      "|   7 |   1.79 | -1.573 |  8.382 |\n",
      "|   8 |   1.63 | -1.258 |  8.604 |\n",
      "|   9 |   1.50 | -1.007 |  8.747 |\n",
      "|  10 |   1.40 | -0.805 |  8.838 |\n",
      "|  11 |   1.32 | -0.644 |  8.896 |\n",
      "|  12 |   1.26 | -0.515 |  8.934 |\n",
      "|  13 |   1.21 | -0.412 |  8.957 |\n",
      "|  14 |   1.16 | -0.330 |  8.973 |\n",
      "|  15 |   1.13 | -0.264 |  8.983 |\n",
      "|  16 |   1.11 | -0.211 |  8.989 |\n",
      "|  17 |   1.08 | -0.169 |  8.993 |\n",
      "|  18 |   1.07 | -0.135 |  8.995 |\n",
      "|  19 |   1.05 | -0.108 |  8.997 |\n",
      "|  20 |   1.04 | -0.086 |  8.998 |\n",
      "|  21 |   1.03 | -0.069 |  8.999 |\n",
      "|  22 |   1.03 | -0.055 |  8.999 |\n",
      "|  23 |   1.02 | -0.044 |  9.000 |\n",
      "|  24 |   1.02 | -0.035 |  9.000 |\n",
      "|  25 |   1.01 | -0.028 |  9.000 |\n",
      "|  26 |   1.01 | -0.023 |  9.000 |\n",
      "|  27 |   1.01 | -0.018 |  9.000 |\n",
      "|  28 |   1.01 | -0.015 |  9.000 |\n",
      "|  29 |   1.01 | -0.012 |  9.000 |\n",
      "|  30 |   1.00 | -0.009 |  9.000 |\n",
      "|  31 |   1.00 | -0.007 |  9.000 |\n",
      "|  32 |   1.00 | -0.006 |  9.000 |\n",
      "|  33 |   1.00 | -0.005 |  9.000 |\n",
      "|  34 |   1.00 | -0.004 |  9.000 |\n",
      "|  35 |   1.00 | -0.003 |  9.000 |\n",
      "|  36 |   1.00 | -0.002 |  9.000 |\n",
      "|  37 |   1.00 | -0.002 |  9.000 |\n",
      "|  38 |   1.00 | -0.002 |  9.000 |\n",
      "|  39 |   1.00 | -0.001 |  9.000 |\n",
      "|  40 |   1.00 | -0.001 |  9.000 |\n"
     ]
    }
   ],
   "source": [
    "@printf(\"| %3s | %6s | %6s | %6s |\\n\", \n",
    "            \"t\", \"x_t\", \"g(x_t)\", \"f(x_t)\")\n",
    "\n",
    "x = 4\n",
    "for t = 1:40\n",
    "    xa = x\n",
    "    gxt = g(x)\n",
    "    fxt = f(x)\n",
    "    \n",
    "    x = x + 0.1 * gxt\n",
    "    \n",
    "    @printf(\"| %3d | %6.2f | %6.3f | %6.3f |\\n\", \n",
    "        t, xa, gxt, fxt)\n",
    "end"
   ]
  },
  {
   "cell_type": "code",
   "execution_count": null,
   "id": "53a82346",
   "metadata": {},
   "outputs": [],
   "source": [
    "add Plots"
   ]
  },
  {
   "cell_type": "code",
   "execution_count": null,
   "id": "eef6bfcb",
   "metadata": {},
   "outputs": [],
   "source": []
  }
 ],
 "metadata": {
  "kernelspec": {
   "display_name": "Julia 1.8.5",
   "language": "julia",
   "name": "julia-1.8"
  },
  "language_info": {
   "file_extension": ".jl",
   "mimetype": "application/julia",
   "name": "julia",
   "version": "1.8.5"
  }
 },
 "nbformat": 4,
 "nbformat_minor": 5
}
