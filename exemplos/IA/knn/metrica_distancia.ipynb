{
  "nbformat": 4,
  "nbformat_minor": 0,
  "metadata": {
    "colab": {
      "provenance": []
    },
    "kernelspec": {
      "name": "python3",
      "display_name": "Python 3"
    },
    "language_info": {
      "name": "python"
    }
  },
  "cells": [
    {
      "cell_type": "code",
      "source": [
        "def sigma(qf, xif):\n",
        "  return abs(qf - xif)"
      ],
      "metadata": {
        "id": "wM-TF6GKNyNc"
      },
      "execution_count": 17,
      "outputs": []
    },
    {
      "cell_type": "code",
      "execution_count": 18,
      "metadata": {
        "id": "MYGNlFV9Kk2h"
      },
      "outputs": [],
      "source": [
        "def d(q, xi, w):\n",
        "  s = 0\n",
        "\n",
        "  F = len(w)\n",
        "\n",
        "  for f in range(F):\n",
        "    s += w[f] * sigma(q[f], xi[f])\n",
        "\n",
        "  return s"
      ]
    },
    {
      "cell_type": "markdown",
      "source": [
        "0. sepal length in cm\n",
        "1. sepal width in cm\n",
        "2. petal length in cm\n",
        "3. petal width in cm"
      ],
      "metadata": {
        "id": "cGs_Zbl4MlH6"
      }
    },
    {
      "cell_type": "code",
      "source": [
        "w = [1, 1, 1, 1]"
      ],
      "metadata": {
        "id": "tOeKyO7kLvLW"
      },
      "execution_count": 29,
      "outputs": []
    },
    {
      "cell_type": "code",
      "source": [
        "q = [4.6, 3.1, 1.5, 0.2]"
      ],
      "metadata": {
        "id": "KM-NhZ3pNM-i"
      },
      "execution_count": 20,
      "outputs": []
    },
    {
      "cell_type": "code",
      "source": [
        "x1 = [5.1, 3.5, 1.4, 0.2]"
      ],
      "metadata": {
        "id": "rk2pt3khNefq"
      },
      "execution_count": 23,
      "outputs": []
    },
    {
      "cell_type": "code",
      "source": [
        "x2 = [4.9, 3.0, 1.4, 0.2]"
      ],
      "metadata": {
        "id": "s_ppU1ahPFU6"
      },
      "execution_count": 24,
      "outputs": []
    },
    {
      "cell_type": "code",
      "source": [
        "d(q, x2, w)"
      ],
      "metadata": {
        "colab": {
          "base_uri": "https://localhost:8080/"
        },
        "id": "GHrgGwSGMHYl",
        "outputId": "8effe134-e52e-4503-88fb-4dae607b8d52"
      },
      "execution_count": 31,
      "outputs": [
        {
          "output_type": "execute_result",
          "data": {
            "text/plain": [
              "0.5000000000000009"
            ]
          },
          "metadata": {},
          "execution_count": 31
        }
      ]
    },
    {
      "cell_type": "code",
      "source": [],
      "metadata": {
        "id": "8tSl8jJ_NmO5"
      },
      "execution_count": 22,
      "outputs": []
    }
  ]
}