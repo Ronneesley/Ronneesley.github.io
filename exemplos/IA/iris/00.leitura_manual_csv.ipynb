{
 "cells": [
  {
   "cell_type": "markdown",
   "metadata": {},
   "source": [
    "# 0. Preparando os módulos"
   ]
  },
  {
   "cell_type": "code",
   "execution_count": 8,
   "metadata": {},
   "outputs": [
    {
     "name": "stdout",
     "output_type": "stream",
     "text": [
      "Defaulting to user installation because normal site-packages is not writeable\n",
      "Requirement already satisfied: matplotlib in /usr/lib/python3/dist-packages (3.5.1)\n"
     ]
    }
   ],
   "source": [
    "!pip install matplotlib"
   ]
  },
  {
   "cell_type": "markdown",
   "metadata": {
    "id": "FJR9moSjRA-N"
   },
   "source": [
    "# 1. Conjunto de dados Iris\n",
    "\n",
    "*URL*: https://archive.ics.uci.edu/dataset/53/iris"
   ]
  },
  {
   "cell_type": "markdown",
   "metadata": {
    "id": "uwwhtVR3Qxtu"
   },
   "source": [
    "# 2. Baixando o conjunto de dados"
   ]
  },
  {
   "cell_type": "code",
   "execution_count": 1,
   "metadata": {
    "colab": {
     "base_uri": "https://localhost:8080/"
    },
    "executionInfo": {
     "elapsed": 361,
     "status": "ok",
     "timestamp": 1708478707923,
     "user": {
      "displayName": "Ronneesley Moura Teles",
      "userId": "01287266850463919738"
     },
     "user_tz": 180
    },
    "id": "Vz2BvN1sQvZJ",
    "outputId": "2a4289ef-df20-4dad-ec7a-45f7f3acb91b"
   },
   "outputs": [
    {
     "name": "stdout",
     "output_type": "stream",
     "text": [
      "--2024-02-27 15:10:03--  https://archive.ics.uci.edu/static/public/53/iris.zip\n",
      "Resolvendo archive.ics.uci.edu (archive.ics.uci.edu)... 128.195.10.252\n",
      "Conectando-se a archive.ics.uci.edu (archive.ics.uci.edu)|128.195.10.252|:443... conectado.\n",
      "A requisição HTTP foi enviada, aguardando resposta... 200 OK\n",
      "Tamanho: não especificada\n",
      "Salvando em: ‘iris.zip’\n",
      "\n",
      "iris.zip                [ <=>                ]   3,65K  --.-KB/s    em 0s      \n",
      "\n",
      "2024-02-27 15:10:05 (881 MB/s) - ‘iris.zip’ salvo [3738]\n",
      "\n"
     ]
    }
   ],
   "source": [
    "!wget https://archive.ics.uci.edu/static/public/53/iris.zip"
   ]
  },
  {
   "cell_type": "code",
   "execution_count": 2,
   "metadata": {
    "colab": {
     "base_uri": "https://localhost:8080/"
    },
    "executionInfo": {
     "elapsed": 3,
     "status": "ok",
     "timestamp": 1708478708254,
     "user": {
      "displayName": "Ronneesley Moura Teles",
      "userId": "01287266850463919738"
     },
     "user_tz": 180
    },
    "id": "4WP4b8ukQwoj",
    "outputId": "52eb475c-3eb9-46bf-f041-5c4aff885977"
   },
   "outputs": [
    {
     "name": "stdout",
     "output_type": "stream",
     "text": [
      "Archive:  iris.zip\n",
      "  inflating: Index                   \n",
      "  inflating: bezdekIris.data         \n",
      "  inflating: iris.data               \n",
      "  inflating: iris.names              \n"
     ]
    }
   ],
   "source": [
    "!unzip iris.zip"
   ]
  },
  {
   "cell_type": "markdown",
   "metadata": {
    "id": "aYwLnCNmQ2Le"
   },
   "source": [
    "# 3. Importando as bibliotecas"
   ]
  },
  {
   "cell_type": "code",
   "execution_count": 3,
   "metadata": {
    "executionInfo": {
     "elapsed": 9,
     "status": "ok",
     "timestamp": 1708478583234,
     "user": {
      "displayName": "Ronneesley Moura Teles",
      "userId": "01287266850463919738"
     },
     "user_tz": 180
    },
    "id": "TTxqEZJ650Yt"
   },
   "outputs": [],
   "source": [
    "import csv"
   ]
  },
  {
   "cell_type": "markdown",
   "metadata": {
    "id": "qW2CRcCFQ4zu"
   },
   "source": [
    "# 4. Fazendo a leitura dos dados"
   ]
  },
  {
   "cell_type": "code",
   "execution_count": 4,
   "metadata": {
    "executionInfo": {
     "elapsed": 298,
     "status": "ok",
     "timestamp": 1708478719441,
     "user": {
      "displayName": "Ronneesley Moura Teles",
      "userId": "01287266850463919738"
     },
     "user_tz": 180
    },
    "id": "XqYLLrpR7Su-"
   },
   "outputs": [],
   "source": [
    "sepal_length = []\n",
    "sepal_width = []\n",
    "petal_length = []\n",
    "petal_width = []\n",
    "classes = []\n",
    "cores = []"
   ]
  },
  {
   "cell_type": "code",
   "execution_count": 5,
   "metadata": {
    "executionInfo": {
     "elapsed": 380,
     "status": "ok",
     "timestamp": 1708478815928,
     "user": {
      "displayName": "Ronneesley Moura Teles",
      "userId": "01287266850463919738"
     },
     "user_tz": 180
    },
    "id": "fp2dnrsnQjT6"
   },
   "outputs": [],
   "source": [
    "with open('./iris.data', newline='') as csvfile:\n",
    "  spamreader = csv.reader(csvfile, delimiter=',')\n",
    "  for i, row in enumerate(spamreader):\n",
    "    if (len(row) > 0):\n",
    "      sepal_length.append(float(row[0]))\n",
    "      sepal_width.append(float(row[1]))\n",
    "      petal_length.append(float(row[2]))\n",
    "      petal_width.append(float(row[3]))\n",
    "      classes.append(row[4])\n",
    "\n",
    "      if (i <= 49):\n",
    "        cores.append(\"blue\") #Iris-setosa\n",
    "      elif (i <= 99):\n",
    "        cores.append(\"red\") #Iris-versicolor\n",
    "      else:\n",
    "        cores.append(\"green\") #Iris-virginica"
   ]
  },
  {
   "cell_type": "markdown",
   "metadata": {
    "id": "WuKYw82iRgtq"
   },
   "source": [
    "# 5. Visualizando os dados"
   ]
  },
  {
   "cell_type": "markdown",
   "metadata": {
    "id": "7n3qMZWWCtOE"
   },
   "source": [
    "Importa a biblioteca de gráficos MatPlotLib do site: https://matplotlib.org/stable/plot_types/basic/scatter_plot.html#sphx-glr-plot-types-basic-scatter-plot-py\n"
   ]
  },
  {
   "cell_type": "code",
   "execution_count": 6,
   "metadata": {
    "executionInfo": {
     "elapsed": 308,
     "status": "ok",
     "timestamp": 1708478842305,
     "user": {
      "displayName": "Ronneesley Moura Teles",
      "userId": "01287266850463919738"
     },
     "user_tz": 180
    },
    "id": "6QoKe6om7m9u"
   },
   "outputs": [
    {
     "name": "stderr",
     "output_type": "stream",
     "text": [
      "Matplotlib is building the font cache; this may take a moment.\n"
     ]
    }
   ],
   "source": [
    "import matplotlib.pyplot as plt"
   ]
  },
  {
   "cell_type": "code",
   "execution_count": 7,
   "metadata": {
    "colab": {
     "base_uri": "https://localhost:8080/",
     "height": 452
    },
    "executionInfo": {
     "elapsed": 662,
     "status": "ok",
     "timestamp": 1708478868009,
     "user": {
      "displayName": "Ronneesley Moura Teles",
      "userId": "01287266850463919738"
     },
     "user_tz": 180
    },
    "id": "9FyH22df_Eiv",
    "outputId": "1a9318ea-46c7-4821-8898-ff4210affa66"
   },
   "outputs": [
    {
     "data": {
      "image/png": "[encoded data removed]",
      "text/plain": [
       "<Figure size 432x288 with 1 Axes>"
      ]
     },
     "metadata": {
      "needs_background": "light"
     },
     "output_type": "display_data"
    }
   ],
   "source": [
    "fig, ax = plt.subplots()\n",
    "ax.scatter(sepal_length, sepal_width, c=cores)\n",
    "plt.xlabel(\"sepal length\")\n",
    "plt.ylabel(\"sepal width\")\n",
    "plt.show()"
   ]
  }
 ],
 "metadata": {
  "colab": {
   "provenance": []
  },
  "kernelspec": {
   "display_name": "Python 3 (ipykernel)",
   "language": "python",
   "name": "python3"
  },
  "language_info": {
   "codemirror_mode": {
    "name": "ipython",
    "version": 3
   },
   "file_extension": ".py",
   "mimetype": "text/x-python",
   "name": "python",
   "nbconvert_exporter": "python",
   "pygments_lexer": "ipython3",
   "version": "3.10.12"
  }
 },
 "nbformat": 4,
 "nbformat_minor": 4
}
