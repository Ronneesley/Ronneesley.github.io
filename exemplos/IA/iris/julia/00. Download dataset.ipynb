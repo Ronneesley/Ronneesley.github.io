{
 "cells": [
  {
   "cell_type": "code",
   "execution_count": 5,
   "id": "8ecebf8c",
   "metadata": {},
   "outputs": [],
   "source": [
    "using Downloads"
   ]
  },
  {
   "cell_type": "code",
   "execution_count": 3,
   "id": "c97b44ee",
   "metadata": {},
   "outputs": [],
   "source": [
    "url = \"https://archive.ics.uci.edu/ml/machine-learning-databases/iris/\";"
   ]
  },
  {
   "cell_type": "code",
   "execution_count": 4,
   "id": "6f03c77d",
   "metadata": {},
   "outputs": [
    {
     "data": {
      "text/plain": [
       "3-element Vector{String}:\n",
       " \"bezdekIris.data\"\n",
       " \"iris.data\"\n",
       " \"iris.names\""
      ]
     },
     "execution_count": 4,
     "metadata": {},
     "output_type": "execute_result"
    }
   ],
   "source": [
    "arquivos = [\"bezdekIris.data\", \"iris.data\", \"iris.names\"]"
   ]
  },
  {
   "cell_type": "code",
   "execution_count": 6,
   "id": "14850b2f",
   "metadata": {},
   "outputs": [
    {
     "data": {
      "text/plain": [
       "\"dataset\""
      ]
     },
     "execution_count": 6,
     "metadata": {},
     "output_type": "execute_result"
    }
   ],
   "source": [
    "if !isdir(\"dataset\")\n",
    "    mkdir(\"dataset\")\n",
    "end"
   ]
  },
  {
   "cell_type": "code",
   "execution_count": 9,
   "id": "d32962d9",
   "metadata": {},
   "outputs": [],
   "source": [
    "for a in arquivos\n",
    "    Downloads.download(joinpath(url, a), joinpath(\"dataset\", a))\n",
    "end"
   ]
  },
  {
   "cell_type": "code",
   "execution_count": null,
   "id": "574907f5",
   "metadata": {},
   "outputs": [],
   "source": []
  }
 ],
 "metadata": {
  "kernelspec": {
   "display_name": "Julia 1.7.3",
   "language": "julia",
   "name": "julia-1.7"
  },
  "language_info": {
   "file_extension": ".jl",
   "mimetype": "application/julia",
   "name": "julia",
   "version": "1.7.3"
  }
 },
 "nbformat": 4,
 "nbformat_minor": 5
}
