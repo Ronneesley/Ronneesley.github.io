{
 "cells": [
  {
   "cell_type": "markdown",
   "id": "4829281c",
   "metadata": {},
   "source": [
    "# 1. Carregamento das bibliotecas necessárias"
   ]
  },
  {
   "cell_type": "code",
   "execution_count": 4,
   "id": "ca596a61",
   "metadata": {},
   "outputs": [],
   "source": [
    "using DataFrames, CSV, Plots, StatsPlots, MLJ"
   ]
  },
  {
   "cell_type": "markdown",
   "id": "fcfdfa49",
   "metadata": {},
   "source": [
    "# 2. Carregamento dos dados"
   ]
  },
  {
   "cell_type": "code",
   "execution_count": 5,
   "id": "53785058",
   "metadata": {},
   "outputs": [],
   "source": [
    "iris = load_iris();"
   ]
  },
  {
   "cell_type": "markdown",
   "id": "36ce0a2e",
   "metadata": {},
   "source": [
    "# 3. Visualização dos dados"
   ]
  },
  {
   "cell_type": "code",
   "execution_count": 6,
   "id": "7a2092dc",
   "metadata": {},
   "outputs": [
    {
     "name": "stdout",
     "output_type": "stream",
     "text": [
      "┌──────────────┬─────────────┬──────────────┬─────────────┬──────────────────────────────────┐\n",
      "│\u001b[1m sepal_length \u001b[0m│\u001b[1m sepal_width \u001b[0m│\u001b[1m petal_length \u001b[0m│\u001b[1m petal_width \u001b[0m│\u001b[1m target                           \u001b[0m│\n",
      "│\u001b[90m Float64      \u001b[0m│\u001b[90m Float64     \u001b[0m│\u001b[90m Float64      \u001b[0m│\u001b[90m Float64     \u001b[0m│\u001b[90m CategoricalValue{String, UInt32} \u001b[0m│\n",
      "│\u001b[90m Continuous   \u001b[0m│\u001b[90m Continuous  \u001b[0m│\u001b[90m Continuous   \u001b[0m│\u001b[90m Continuous  \u001b[0m│\u001b[90m Multiclass{3}                    \u001b[0m│\n",
      "├──────────────┼─────────────┼──────────────┼─────────────┼──────────────────────────────────┤\n",
      "│ 5.1          │ 3.5         │ 1.4          │ 0.2         │ setosa                           │\n",
      "│ 4.9          │ 3.0         │ 1.4          │ 0.2         │ setosa                           │\n",
      "│ 4.7          │ 3.2         │ 1.3          │ 0.2         │ setosa                           │\n",
      "└──────────────┴─────────────┴──────────────┴─────────────┴──────────────────────────────────┘\n"
     ]
    }
   ],
   "source": [
    "selectrows(iris, 1:3)  |> pretty"
   ]
  },
  {
   "cell_type": "code",
   "execution_count": 7,
   "id": "9d26846d",
   "metadata": {},
   "outputs": [
    {
     "data": {
      "text/plain": [
       "┌──────────────┬───────────────┬──────────────────────────────────┐\n",
       "│\u001b[22m names        \u001b[0m│\u001b[22m scitypes      \u001b[0m│\u001b[22m types                            \u001b[0m│\n",
       "├──────────────┼───────────────┼──────────────────────────────────┤\n",
       "│ sepal_length │ Continuous    │ Float64                          │\n",
       "│ sepal_width  │ Continuous    │ Float64                          │\n",
       "│ petal_length │ Continuous    │ Float64                          │\n",
       "│ petal_width  │ Continuous    │ Float64                          │\n",
       "│ target       │ Multiclass{3} │ CategoricalValue{String, UInt32} │\n",
       "└──────────────┴───────────────┴──────────────────────────────────┘\n"
      ]
     },
     "execution_count": 7,
     "metadata": {},
     "output_type": "execute_result"
    }
   ],
   "source": [
    "schema(iris)"
   ]
  },
  {
   "cell_type": "code",
   "execution_count": 9,
   "id": "0d3c5fca",
   "metadata": {},
   "outputs": [],
   "source": [
    "import DataFrames\n",
    "iris = DataFrames.DataFrame(iris);"
   ]
  },
  {
   "cell_type": "code",
   "execution_count": 10,
   "id": "ab6e668b",
   "metadata": {},
   "outputs": [],
   "source": [
    "#Divide os dados em (X, Y), utilizando um RNG para aletorizar os dados\n",
    "y, X = unpack(iris, ==(:target); rng=123);"
   ]
  },
  {
   "cell_type": "code",
   "execution_count": 11,
   "id": "468a4fef",
   "metadata": {},
   "outputs": [
    {
     "name": "stdout",
     "output_type": "stream",
     "text": [
      "┌──────────────┬─────────────┬──────────────┬─────────────┐\n",
      "│\u001b[1m sepal_length \u001b[0m│\u001b[1m sepal_width \u001b[0m│\u001b[1m petal_length \u001b[0m│\u001b[1m petal_width \u001b[0m│\n",
      "│\u001b[90m Float64      \u001b[0m│\u001b[90m Float64     \u001b[0m│\u001b[90m Float64      \u001b[0m│\u001b[90m Float64     \u001b[0m│\n",
      "│\u001b[90m Continuous   \u001b[0m│\u001b[90m Continuous  \u001b[0m│\u001b[90m Continuous   \u001b[0m│\u001b[90m Continuous  \u001b[0m│\n",
      "├──────────────┼─────────────┼──────────────┼─────────────┤\n",
      "│ 6.7          │ 3.3         │ 5.7          │ 2.1         │\n",
      "│ 5.7          │ 2.8         │ 4.1          │ 1.3         │\n",
      "│ 7.2          │ 3.0         │ 5.8          │ 1.6         │\n",
      "└──────────────┴─────────────┴──────────────┴─────────────┘\n"
     ]
    }
   ],
   "source": [
    "first(X, 3) |> pretty"
   ]
  },
  {
   "cell_type": "code",
   "execution_count": 14,
   "id": "c27e14bb",
   "metadata": {},
   "outputs": [
    {
     "data": {
      "text/plain": [
       "3-element CategoricalArrays.CategoricalArray{String,1,UInt32}:\n",
       " \"virginica\"\n",
       " \"versicolor\"\n",
       " \"virginica\""
      ]
     },
     "execution_count": 14,
     "metadata": {},
     "output_type": "execute_result"
    }
   ],
   "source": [
    "y[1:3]"
   ]
  },
  {
   "cell_type": "markdown",
   "id": "458f0d38",
   "metadata": {},
   "source": [
    "# 4. Aprendizado de máquina"
   ]
  },
  {
   "cell_type": "code",
   "execution_count": 8,
   "id": "aec058a2",
   "metadata": {},
   "outputs": [
    {
     "name": "stdout",
     "output_type": "stream",
     "text": [
      "┌──────────────┬─────────────┬──────────────┬─────────────┬──────────────────────────────────┐\n",
      "│\u001b[1m sepal_length \u001b[0m│\u001b[1m sepal_width \u001b[0m│\u001b[1m petal_length \u001b[0m│\u001b[1m petal_width \u001b[0m│\u001b[1m target                           \u001b[0m│\n",
      "│\u001b[90m Float64      \u001b[0m│\u001b[90m Float64     \u001b[0m│\u001b[90m Float64      \u001b[0m│\u001b[90m Float64     \u001b[0m│\u001b[90m CategoricalValue{String, UInt32} \u001b[0m│\n",
      "│\u001b[90m Continuous   \u001b[0m│\u001b[90m Continuous  \u001b[0m│\u001b[90m Continuous   \u001b[0m│\u001b[90m Continuous  \u001b[0m│\u001b[90m Multiclass{3}                    \u001b[0m│\n",
      "├──────────────┼─────────────┼──────────────┼─────────────┼──────────────────────────────────┤\n",
      "│ 5.1          │ 3.5         │ 1.4          │ 0.2         │ setosa                           │\n",
      "│ 4.9          │ 3.0         │ 1.4          │ 0.2         │ setosa                           │\n",
      "│ 4.7          │ 3.2         │ 1.3          │ 0.2         │ setosa                           │\n",
      "└──────────────┴─────────────┴──────────────┴─────────────┴──────────────────────────────────┘\n"
     ]
    }
   ],
   "source": [
    "selectrows(iris, 1:3)  |> pretty"
   ]
  },
  {
   "cell_type": "code",
   "execution_count": null,
   "id": "2978ed77",
   "metadata": {},
   "outputs": [],
   "source": []
  }
 ],
 "metadata": {
  "kernelspec": {
   "display_name": "Julia 1.7.3",
   "language": "julia",
   "name": "julia-1.7"
  },
  "language_info": {
   "file_extension": ".jl",
   "mimetype": "application/julia",
   "name": "julia",
   "version": "1.7.3"
  }
 },
 "nbformat": 4,
 "nbformat_minor": 5
}
